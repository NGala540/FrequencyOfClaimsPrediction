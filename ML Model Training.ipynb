{
 "cells": [
  {
   "cell_type": "code",
   "execution_count": 17,
   "metadata": {},
   "outputs": [],
   "source": [
    "import numpy as np\n",
    "import pandas as pd\n",
    "import matplotlib.pyplot as plt\n",
    "import seaborn as sns\n",
    "from sklearn.pipeline import Pipeline\n",
    "from sklearn.compose import ColumnTransformer\n",
    "from sklearn.preprocessing import StandardScaler, OneHotEncoder\n",
    "from sklearn.model_selection import train_test_split, GridSearchCV, cross_val_score\n",
    "from sklearn.ensemble import RandomForestClassifier\n",
    "from sklearn.metrics import accuracy_score, roc_auc_score, precision_score, mean_squared_error, confusion_matrix, f1_score, recall_score\n",
    "from imblearn.over_sampling import SMOTE\n",
    "from imblearn.pipeline import Pipeline as ImbPipeline\n",
    "import xgboost as xg\n",
    "import pickle"
   ]
  },
  {
   "cell_type": "code",
   "execution_count": 2,
   "metadata": {},
   "outputs": [
    {
     "data": {
      "text/html": [
       "<div>\n",
       "<style scoped>\n",
       "    .dataframe tbody tr th:only-of-type {\n",
       "        vertical-align: middle;\n",
       "    }\n",
       "\n",
       "    .dataframe tbody tr th {\n",
       "        vertical-align: top;\n",
       "    }\n",
       "\n",
       "    .dataframe thead th {\n",
       "        text-align: right;\n",
       "    }\n",
       "</style>\n",
       "<table border=\"1\" class=\"dataframe\">\n",
       "  <thead>\n",
       "    <tr style=\"text-align: right;\">\n",
       "      <th></th>\n",
       "      <th>VehPower</th>\n",
       "      <th>VehAge</th>\n",
       "      <th>DrivAge</th>\n",
       "      <th>Area</th>\n",
       "      <th>VehBrand</th>\n",
       "      <th>VehGas</th>\n",
       "      <th>Region</th>\n",
       "      <th>ClaimFrequency</th>\n",
       "      <th>VehPowerDriverAge</th>\n",
       "      <th>TransformBonusMalus</th>\n",
       "      <th>TransformDensity</th>\n",
       "      <th>isClaim</th>\n",
       "    </tr>\n",
       "  </thead>\n",
       "  <tbody>\n",
       "    <tr>\n",
       "      <th>0</th>\n",
       "      <td>5.0</td>\n",
       "      <td>0.0</td>\n",
       "      <td>55.0</td>\n",
       "      <td>D</td>\n",
       "      <td>B12</td>\n",
       "      <td>Regular</td>\n",
       "      <td>R82</td>\n",
       "      <td>1.000000</td>\n",
       "      <td>0.090909</td>\n",
       "      <td>3.912023</td>\n",
       "      <td>7.104144</td>\n",
       "      <td>1</td>\n",
       "    </tr>\n",
       "    <tr>\n",
       "      <th>1</th>\n",
       "      <td>5.0</td>\n",
       "      <td>0.0</td>\n",
       "      <td>55.0</td>\n",
       "      <td>D</td>\n",
       "      <td>B12</td>\n",
       "      <td>Regular</td>\n",
       "      <td>R82</td>\n",
       "      <td>1.298701</td>\n",
       "      <td>0.090909</td>\n",
       "      <td>3.912023</td>\n",
       "      <td>7.104144</td>\n",
       "      <td>1</td>\n",
       "    </tr>\n",
       "    <tr>\n",
       "      <th>2</th>\n",
       "      <td>6.0</td>\n",
       "      <td>2.0</td>\n",
       "      <td>52.0</td>\n",
       "      <td>B</td>\n",
       "      <td>B12</td>\n",
       "      <td>Diesel</td>\n",
       "      <td>R22</td>\n",
       "      <td>1.333333</td>\n",
       "      <td>0.115385</td>\n",
       "      <td>3.912023</td>\n",
       "      <td>3.988984</td>\n",
       "      <td>1</td>\n",
       "    </tr>\n",
       "    <tr>\n",
       "      <th>3</th>\n",
       "      <td>7.0</td>\n",
       "      <td>0.0</td>\n",
       "      <td>46.0</td>\n",
       "      <td>B</td>\n",
       "      <td>B12</td>\n",
       "      <td>Diesel</td>\n",
       "      <td>R72</td>\n",
       "      <td>1.190476</td>\n",
       "      <td>0.152174</td>\n",
       "      <td>3.912023</td>\n",
       "      <td>4.330733</td>\n",
       "      <td>1</td>\n",
       "    </tr>\n",
       "    <tr>\n",
       "      <th>4</th>\n",
       "      <td>6.0</td>\n",
       "      <td>2.0</td>\n",
       "      <td>38.0</td>\n",
       "      <td>E</td>\n",
       "      <td>B12</td>\n",
       "      <td>Regular</td>\n",
       "      <td>R31</td>\n",
       "      <td>1.923077</td>\n",
       "      <td>0.157895</td>\n",
       "      <td>3.912023</td>\n",
       "      <td>8.007367</td>\n",
       "      <td>1</td>\n",
       "    </tr>\n",
       "    <tr>\n",
       "      <th>...</th>\n",
       "      <td>...</td>\n",
       "      <td>...</td>\n",
       "      <td>...</td>\n",
       "      <td>...</td>\n",
       "      <td>...</td>\n",
       "      <td>...</td>\n",
       "      <td>...</td>\n",
       "      <td>...</td>\n",
       "      <td>...</td>\n",
       "      <td>...</td>\n",
       "      <td>...</td>\n",
       "      <td>...</td>\n",
       "    </tr>\n",
       "    <tr>\n",
       "      <th>677997</th>\n",
       "      <td>4.0</td>\n",
       "      <td>0.0</td>\n",
       "      <td>54.0</td>\n",
       "      <td>E</td>\n",
       "      <td>B12</td>\n",
       "      <td>Regular</td>\n",
       "      <td>R93</td>\n",
       "      <td>0.000000</td>\n",
       "      <td>0.074074</td>\n",
       "      <td>3.912023</td>\n",
       "      <td>8.106816</td>\n",
       "      <td>0</td>\n",
       "    </tr>\n",
       "    <tr>\n",
       "      <th>677998</th>\n",
       "      <td>4.0</td>\n",
       "      <td>0.0</td>\n",
       "      <td>41.0</td>\n",
       "      <td>E</td>\n",
       "      <td>B12</td>\n",
       "      <td>Regular</td>\n",
       "      <td>R11</td>\n",
       "      <td>0.000000</td>\n",
       "      <td>0.097561</td>\n",
       "      <td>4.553877</td>\n",
       "      <td>9.195227</td>\n",
       "      <td>0</td>\n",
       "    </tr>\n",
       "    <tr>\n",
       "      <th>677999</th>\n",
       "      <td>6.0</td>\n",
       "      <td>2.0</td>\n",
       "      <td>45.0</td>\n",
       "      <td>D</td>\n",
       "      <td>B12</td>\n",
       "      <td>Diesel</td>\n",
       "      <td>R82</td>\n",
       "      <td>0.000000</td>\n",
       "      <td>0.133333</td>\n",
       "      <td>3.912023</td>\n",
       "      <td>7.187657</td>\n",
       "      <td>0</td>\n",
       "    </tr>\n",
       "    <tr>\n",
       "      <th>678000</th>\n",
       "      <td>4.0</td>\n",
       "      <td>0.0</td>\n",
       "      <td>60.0</td>\n",
       "      <td>B</td>\n",
       "      <td>B12</td>\n",
       "      <td>Regular</td>\n",
       "      <td>R26</td>\n",
       "      <td>0.000000</td>\n",
       "      <td>0.066667</td>\n",
       "      <td>3.912023</td>\n",
       "      <td>4.553877</td>\n",
       "      <td>0</td>\n",
       "    </tr>\n",
       "    <tr>\n",
       "      <th>678001</th>\n",
       "      <td>7.0</td>\n",
       "      <td>6.0</td>\n",
       "      <td>29.0</td>\n",
       "      <td>B</td>\n",
       "      <td>B12</td>\n",
       "      <td>Diesel</td>\n",
       "      <td>R72</td>\n",
       "      <td>0.000000</td>\n",
       "      <td>0.241379</td>\n",
       "      <td>3.988984</td>\n",
       "      <td>4.174387</td>\n",
       "      <td>0</td>\n",
       "    </tr>\n",
       "  </tbody>\n",
       "</table>\n",
       "<p>678002 rows × 12 columns</p>\n",
       "</div>"
      ],
      "text/plain": [
       "        VehPower  VehAge  DrivAge Area VehBrand   VehGas Region  \\\n",
       "0            5.0     0.0     55.0    D      B12  Regular    R82   \n",
       "1            5.0     0.0     55.0    D      B12  Regular    R82   \n",
       "2            6.0     2.0     52.0    B      B12   Diesel    R22   \n",
       "3            7.0     0.0     46.0    B      B12   Diesel    R72   \n",
       "4            6.0     2.0     38.0    E      B12  Regular    R31   \n",
       "...          ...     ...      ...  ...      ...      ...    ...   \n",
       "677997       4.0     0.0     54.0    E      B12  Regular    R93   \n",
       "677998       4.0     0.0     41.0    E      B12  Regular    R11   \n",
       "677999       6.0     2.0     45.0    D      B12   Diesel    R82   \n",
       "678000       4.0     0.0     60.0    B      B12  Regular    R26   \n",
       "678001       7.0     6.0     29.0    B      B12   Diesel    R72   \n",
       "\n",
       "        ClaimFrequency  VehPowerDriverAge  TransformBonusMalus  \\\n",
       "0             1.000000           0.090909             3.912023   \n",
       "1             1.298701           0.090909             3.912023   \n",
       "2             1.333333           0.115385             3.912023   \n",
       "3             1.190476           0.152174             3.912023   \n",
       "4             1.923077           0.157895             3.912023   \n",
       "...                ...                ...                  ...   \n",
       "677997        0.000000           0.074074             3.912023   \n",
       "677998        0.000000           0.097561             4.553877   \n",
       "677999        0.000000           0.133333             3.912023   \n",
       "678000        0.000000           0.066667             3.912023   \n",
       "678001        0.000000           0.241379             3.988984   \n",
       "\n",
       "        TransformDensity  isClaim  \n",
       "0               7.104144        1  \n",
       "1               7.104144        1  \n",
       "2               3.988984        1  \n",
       "3               4.330733        1  \n",
       "4               8.007367        1  \n",
       "...                  ...      ...  \n",
       "677997          8.106816        0  \n",
       "677998          9.195227        0  \n",
       "677999          7.187657        0  \n",
       "678000          4.553877        0  \n",
       "678001          4.174387        0  \n",
       "\n",
       "[678002 rows x 12 columns]"
      ]
     },
     "execution_count": 2,
     "metadata": {},
     "output_type": "execute_result"
    }
   ],
   "source": [
    "df = pd.read_csv(\"feature_selected_data.csv\")\n",
    "df"
   ]
  },
  {
   "cell_type": "markdown",
   "metadata": {},
   "source": [
    "### Preprocessing"
   ]
  },
  {
   "cell_type": "code",
   "execution_count": null,
   "metadata": {},
   "outputs": [],
   "source": [
    "X = df.drop(columns=['ClaimFrequency', \"isClaim\"], axis=1)\n",
    "y = df['ClaimFrequency']\n",
    "\n",
    "y_class = df[\"isClaim\"]\n",
    "\n",
    "X_train_class, X_test_class, y_train_class, y_test_class = train_test_split(X, y_class, test_size=0.2, random_state=42)\n",
    "X_train_reg, X_test_reg, y_train_reg, y_test_reg = train_test_split(X[y > 0], y[y > 0], test_size=0.2, random_state=42)\n",
    "\n",
    "num_features = X.select_dtypes(include=['int64', 'float64']).columns\n",
    "cat_features = X.select_dtypes(include=['object']).columns\n",
    "\n",
    "preprocessor = ColumnTransformer([\n",
    "    ('num', StandardScaler(), num_features),\n",
    "    ('cat', OneHotEncoder(drop='first'), cat_features)\n",
    "])"
   ]
  },
  {
   "cell_type": "markdown",
   "metadata": {},
   "source": [
    "### Classification"
   ]
  },
  {
   "cell_type": "code",
   "execution_count": 16,
   "metadata": {},
   "outputs": [],
   "source": [
    "# Classification Model (with SMOTE for imbalance handling)\n",
    "classifier_pipeline = ImbPipeline([\n",
    "    ('preprocess', preprocessor),\n",
    "    ('smote', SMOTE(random_state=42)),\n",
    "    ('classifier', RandomForestClassifier(class_weight='balanced', random_state=42))\n",
    "])\n",
    "\n",
    "# Hyperparameter tuning for classification model\n",
    "param_grid_class = {\n",
    "    'classifier__n_estimators': [50, 100, 200],\n",
    "    'classifier__max_depth': [5, 10, 20],\n",
    "    'classifier__min_samples_split': [2, 5, 10]\n",
    "}"
   ]
  },
  {
   "cell_type": "code",
   "execution_count": 17,
   "metadata": {},
   "outputs": [
    {
     "data": {
      "text/html": [
       "<div>\n",
       "<style scoped>\n",
       "    .dataframe tbody tr th:only-of-type {\n",
       "        vertical-align: middle;\n",
       "    }\n",
       "\n",
       "    .dataframe tbody tr th {\n",
       "        vertical-align: top;\n",
       "    }\n",
       "\n",
       "    .dataframe thead th {\n",
       "        text-align: right;\n",
       "    }\n",
       "</style>\n",
       "<table border=\"1\" class=\"dataframe\">\n",
       "  <thead>\n",
       "    <tr style=\"text-align: right;\">\n",
       "      <th></th>\n",
       "      <th>VehPower</th>\n",
       "      <th>VehAge</th>\n",
       "      <th>DrivAge</th>\n",
       "      <th>Area</th>\n",
       "      <th>VehBrand</th>\n",
       "      <th>VehGas</th>\n",
       "      <th>Region</th>\n",
       "      <th>VehPowerDriverAge</th>\n",
       "      <th>TransformBonusMalus</th>\n",
       "      <th>TransformDensity</th>\n",
       "    </tr>\n",
       "  </thead>\n",
       "  <tbody>\n",
       "    <tr>\n",
       "      <th>161570</th>\n",
       "      <td>5.0</td>\n",
       "      <td>6.0</td>\n",
       "      <td>42.0</td>\n",
       "      <td>D</td>\n",
       "      <td>B5</td>\n",
       "      <td>Diesel</td>\n",
       "      <td>R54</td>\n",
       "      <td>0.119048</td>\n",
       "      <td>4.143135</td>\n",
       "      <td>6.722630</td>\n",
       "    </tr>\n",
       "    <tr>\n",
       "      <th>13860</th>\n",
       "      <td>6.0</td>\n",
       "      <td>3.0</td>\n",
       "      <td>36.0</td>\n",
       "      <td>C</td>\n",
       "      <td>B1</td>\n",
       "      <td>Diesel</td>\n",
       "      <td>R24</td>\n",
       "      <td>0.166667</td>\n",
       "      <td>3.912023</td>\n",
       "      <td>4.653960</td>\n",
       "    </tr>\n",
       "    <tr>\n",
       "      <th>269882</th>\n",
       "      <td>11.0</td>\n",
       "      <td>11.0</td>\n",
       "      <td>34.0</td>\n",
       "      <td>D</td>\n",
       "      <td>B1</td>\n",
       "      <td>Diesel</td>\n",
       "      <td>R82</td>\n",
       "      <td>0.323529</td>\n",
       "      <td>3.988984</td>\n",
       "      <td>7.476472</td>\n",
       "    </tr>\n",
       "    <tr>\n",
       "      <th>488313</th>\n",
       "      <td>5.0</td>\n",
       "      <td>0.0</td>\n",
       "      <td>38.0</td>\n",
       "      <td>E</td>\n",
       "      <td>B2</td>\n",
       "      <td>Diesel</td>\n",
       "      <td>R93</td>\n",
       "      <td>0.131579</td>\n",
       "      <td>4.553877</td>\n",
       "      <td>8.106816</td>\n",
       "    </tr>\n",
       "    <tr>\n",
       "      <th>420318</th>\n",
       "      <td>5.0</td>\n",
       "      <td>13.0</td>\n",
       "      <td>24.0</td>\n",
       "      <td>E</td>\n",
       "      <td>B5</td>\n",
       "      <td>Diesel</td>\n",
       "      <td>R73</td>\n",
       "      <td>0.208333</td>\n",
       "      <td>4.553877</td>\n",
       "      <td>7.659171</td>\n",
       "    </tr>\n",
       "    <tr>\n",
       "      <th>...</th>\n",
       "      <td>...</td>\n",
       "      <td>...</td>\n",
       "      <td>...</td>\n",
       "      <td>...</td>\n",
       "      <td>...</td>\n",
       "      <td>...</td>\n",
       "      <td>...</td>\n",
       "      <td>...</td>\n",
       "      <td>...</td>\n",
       "      <td>...</td>\n",
       "    </tr>\n",
       "    <tr>\n",
       "      <th>259178</th>\n",
       "      <td>7.0</td>\n",
       "      <td>0.0</td>\n",
       "      <td>39.0</td>\n",
       "      <td>C</td>\n",
       "      <td>B3</td>\n",
       "      <td>Diesel</td>\n",
       "      <td>R82</td>\n",
       "      <td>0.179487</td>\n",
       "      <td>4.043051</td>\n",
       "      <td>4.969813</td>\n",
       "    </tr>\n",
       "    <tr>\n",
       "      <th>365838</th>\n",
       "      <td>6.0</td>\n",
       "      <td>2.0</td>\n",
       "      <td>33.0</td>\n",
       "      <td>E</td>\n",
       "      <td>B12</td>\n",
       "      <td>Diesel</td>\n",
       "      <td>R31</td>\n",
       "      <td>0.181818</td>\n",
       "      <td>4.276666</td>\n",
       "      <td>8.037543</td>\n",
       "    </tr>\n",
       "    <tr>\n",
       "      <th>131932</th>\n",
       "      <td>10.0</td>\n",
       "      <td>12.0</td>\n",
       "      <td>48.0</td>\n",
       "      <td>E</td>\n",
       "      <td>B2</td>\n",
       "      <td>Diesel</td>\n",
       "      <td>R93</td>\n",
       "      <td>0.208333</td>\n",
       "      <td>3.912023</td>\n",
       "      <td>8.227910</td>\n",
       "    </tr>\n",
       "    <tr>\n",
       "      <th>671155</th>\n",
       "      <td>5.0</td>\n",
       "      <td>1.0</td>\n",
       "      <td>42.0</td>\n",
       "      <td>C</td>\n",
       "      <td>B12</td>\n",
       "      <td>Regular</td>\n",
       "      <td>R11</td>\n",
       "      <td>0.119048</td>\n",
       "      <td>4.276666</td>\n",
       "      <td>5.572154</td>\n",
       "    </tr>\n",
       "    <tr>\n",
       "      <th>121958</th>\n",
       "      <td>7.0</td>\n",
       "      <td>2.0</td>\n",
       "      <td>54.0</td>\n",
       "      <td>C</td>\n",
       "      <td>B6</td>\n",
       "      <td>Regular</td>\n",
       "      <td>R82</td>\n",
       "      <td>0.129630</td>\n",
       "      <td>3.912023</td>\n",
       "      <td>5.488938</td>\n",
       "    </tr>\n",
       "  </tbody>\n",
       "</table>\n",
       "<p>542401 rows × 10 columns</p>\n",
       "</div>"
      ],
      "text/plain": [
       "        VehPower  VehAge  DrivAge Area VehBrand   VehGas Region  \\\n",
       "161570       5.0     6.0     42.0    D       B5   Diesel    R54   \n",
       "13860        6.0     3.0     36.0    C       B1   Diesel    R24   \n",
       "269882      11.0    11.0     34.0    D       B1   Diesel    R82   \n",
       "488313       5.0     0.0     38.0    E       B2   Diesel    R93   \n",
       "420318       5.0    13.0     24.0    E       B5   Diesel    R73   \n",
       "...          ...     ...      ...  ...      ...      ...    ...   \n",
       "259178       7.0     0.0     39.0    C       B3   Diesel    R82   \n",
       "365838       6.0     2.0     33.0    E      B12   Diesel    R31   \n",
       "131932      10.0    12.0     48.0    E       B2   Diesel    R93   \n",
       "671155       5.0     1.0     42.0    C      B12  Regular    R11   \n",
       "121958       7.0     2.0     54.0    C       B6  Regular    R82   \n",
       "\n",
       "        VehPowerDriverAge  TransformBonusMalus  TransformDensity  \n",
       "161570           0.119048             4.143135          6.722630  \n",
       "13860            0.166667             3.912023          4.653960  \n",
       "269882           0.323529             3.988984          7.476472  \n",
       "488313           0.131579             4.553877          8.106816  \n",
       "420318           0.208333             4.553877          7.659171  \n",
       "...                   ...                  ...               ...  \n",
       "259178           0.179487             4.043051          4.969813  \n",
       "365838           0.181818             4.276666          8.037543  \n",
       "131932           0.208333             3.912023          8.227910  \n",
       "671155           0.119048             4.276666          5.572154  \n",
       "121958           0.129630             3.912023          5.488938  \n",
       "\n",
       "[542401 rows x 10 columns]"
      ]
     },
     "execution_count": 17,
     "metadata": {},
     "output_type": "execute_result"
    }
   ],
   "source": [
    "X_train_class"
   ]
  },
  {
   "cell_type": "code",
   "execution_count": null,
   "metadata": {},
   "outputs": [
    {
     "name": "stdout",
     "output_type": "stream",
     "text": [
      "Best Classification Model: {'classifier__max_depth': 20, 'classifier__min_samples_split': 2, 'classifier__n_estimators': 200}\n",
      "Classification Accuracy: 0.8537842641278457\n",
      "ROC AUC: 0.5768415222915078\n"
     ]
    }
   ],
   "source": [
    "grid_search_class = GridSearchCV(classifier_pipeline, param_grid_class, cv=5, scoring='roc_auc')\n",
    "grid_search_class.fit(X_train_class, y_train_class)\n",
    "\n",
    "best_classifier = grid_search_class.best_estimator_\n",
    "with open('best_classifier.pkl','wb') as f:\n",
    "    pickle.dump(best_classifier,f)"
   ]
  },
  {
   "cell_type": "code",
   "execution_count": 19,
   "metadata": {},
   "outputs": [
    {
     "name": "stdout",
     "output_type": "stream",
     "text": [
      "Best Classification Model: RandomForestClassifier(class_weight='balanced', max_depth=20, n_estimators=200,\n",
      "                       random_state=42)\n",
      "Classification Accuracy: 0.8537842641278457\n",
      "Classification Precision: 0.10575492471582455\n",
      "Classification Recall: 0.2701429005776832\n",
      "Classification F1: 0.15200376373978872\n",
      "ROC AUC: 0.5768415222915078\n"
     ]
    }
   ],
   "source": [
    "with open('best_classifier.pkl', 'rb') as f:\n",
    "    best_classifier = pickle.load(f)\n",
    "\n",
    "y_pred_class = best_classifier.predict(X_test_class)\n",
    "print(f\"Best Classification Model: {best_classifier.steps[2][1]}\")\n",
    "print(f\"Classification Accuracy: {accuracy_score(y_test_class, y_pred_class)}\")\n",
    "print(f\"Classification Precision: {precision_score(y_test_class, y_pred_class)}\")\n",
    "print(f\"Classification Recall: {recall_score(y_test_class, y_pred_class)}\")\n",
    "print(f\"Classification F1: {f1_score(y_test_class, y_pred_class)}\")\n",
    "print(f\"ROC AUC: {roc_auc_score(y_test_class, y_pred_class)}\")"
   ]
  },
  {
   "cell_type": "code",
   "execution_count": 20,
   "metadata": {},
   "outputs": [
    {
     "data": {
      "image/png": "[encoded data removed]",
      "text/plain": [
       "<Figure size 800x600 with 2 Axes>"
      ]
     },
     "metadata": {},
     "output_type": "display_data"
    }
   ],
   "source": [
    "# Classification Evaluation Visualization\n",
    "plt.figure(figsize=(8, 6))\n",
    "sns.heatmap(confusion_matrix(y_test_class, y_pred_class), annot=True, fmt='d', cmap='Blues')\n",
    "plt.xlabel('Predicted')\n",
    "plt.ylabel('Actual')\n",
    "plt.title('Confusion Matrix for Classification')\n",
    "plt.show()"
   ]
  },
  {
   "cell_type": "markdown",
   "metadata": {},
   "source": [
    "### Regression"
   ]
  },
  {
   "cell_type": "code",
   "execution_count": 20,
   "metadata": {},
   "outputs": [],
   "source": [
    "# Regression Model (only on positive claim cases)\n",
    "regressor_pipeline = Pipeline([\n",
    "    ('preprocess', preprocessor),\n",
    "    ('regressor', xg.XGBRegressor(objective ='reg:squarederror', seed = 42))\n",
    "])\n",
    "\n",
    "# Hyperparameter tuning for regression model\n",
    "param_grid_reg = {\n",
    "    'regressor__n_estimators': [50, 100, 200],\n",
    "    'regressor__max_depth': [5, 10, 20],\n",
    "}"
   ]
  },
  {
   "cell_type": "code",
   "execution_count": 21,
   "metadata": {},
   "outputs": [],
   "source": [
    "grid_search_reg = GridSearchCV(regressor_pipeline, param_grid_reg, cv=5, scoring='neg_mean_squared_error')\n",
    "grid_search_reg.fit(X_train_reg, y_train_reg)\n",
    "\n",
    "best_regressor = grid_search_reg.best_estimator_\n",
    "with open('best_regressor.pkl','wb') as f:\n",
    "    pickle.dump(best_regressor,f)\n"
   ]
  },
  {
   "cell_type": "code",
   "execution_count": 22,
   "metadata": {},
   "outputs": [
    {
     "name": "stdout",
     "output_type": "stream",
     "text": [
      "Best Regression Model: {'regressor__max_depth': 5, 'regressor__n_estimators': 50}\n",
      "Regression RMSE: 0.6850489336053699\n"
     ]
    }
   ],
   "source": [
    "with open('best_regressor.pkl', 'rb') as f:\n",
    "    best_regressor = pickle.load(f)\n",
    "\n",
    "y_pred_reg = best_regressor.predict(X_test_reg)\n",
    "print(f\"Best Regression Model: {grid_search_reg.best_params_}\")\n",
    "print(f\"Regression RMSE: {mean_squared_error(y_test_reg, y_pred_reg)}\")"
   ]
  },
  {
   "cell_type": "code",
   "execution_count": 23,
   "metadata": {},
   "outputs": [
    {
     "data": {
      "image/png": "[encoded data removed]",
      "text/plain": [
       "<Figure size 800x600 with 1 Axes>"
      ]
     },
     "metadata": {},
     "output_type": "display_data"
    }
   ],
   "source": [
    "# Regression Evaluation Visualization\n",
    "plt.figure(figsize=(8, 6))\n",
    "sns.scatterplot(x=y_test_reg, y=y_pred_reg)\n",
    "plt.xlabel(\"Actual Claim Frequency\")\n",
    "plt.ylabel(\"Predicted Claim Frequency\")\n",
    "plt.title(\"Regression Model Predictions vs Actuals\")\n",
    "plt.show()"
   ]
  },
  {
   "cell_type": "code",
   "execution_count": 54,
   "metadata": {},
   "outputs": [],
   "source": [
    "# Final Prediction Pipeline\n",
    "class_preds = best_classifier.predict(X_test_class)\n",
    "final_preds_test = np.where(class_preds == 1, best_regressor.predict(X_test_class), 0)"
   ]
  },
  {
   "cell_type": "code",
   "execution_count": 51,
   "metadata": {},
   "outputs": [
    {
     "name": "stderr",
     "output_type": "stream",
     "text": [
      "C:\\Users\\nortg\\AppData\\Local\\Temp\\ipykernel_1144\\2408653860.py:3: FutureWarning: Setting an item of incompatible dtype is deprecated and will raise an error in a future version of pandas. Value '[1.07526882 1.92307692 1.         ... 1.17647059 1.06382979 2.22222222]' has dtype incompatible with int64, please explicitly cast to a compatible dtype first.\n",
      "  final_y_test.loc[idx_class_1] = y.reindex(idx_class_1)\n"
     ]
    }
   ],
   "source": [
    "final_y_test = pd.Series(0, index=y_test_class.index)\n",
    "idx_class_1 = y_test_class[y_test_class == 1].index\n",
    "final_y_test.loc[idx_class_1] = y.reindex(idx_class_1)"
   ]
  },
  {
   "cell_type": "code",
   "execution_count": 55,
   "metadata": {},
   "outputs": [
    {
     "data": {
      "image/png": "[encoded data removed]",
      "text/plain": [
       "<Figure size 800x600 with 1 Axes>"
      ]
     },
     "metadata": {},
     "output_type": "display_data"
    }
   ],
   "source": [
    "# Final Model Evaluation Visualization\n",
    "plt.figure(figsize=(8, 6))\n",
    "sns.histplot(final_preds, bins=50, kde=True, color='blue', label='Predicted')\n",
    "sns.histplot(final_y_test, bins=50, kde=True, color='red', label='Actual')\n",
    "plt.xlabel(\"Claim Frequency\")\n",
    "plt.ylabel(\"Count\")\n",
    "plt.legend()\n",
    "plt.title(\"Distribution of Actual vs Predicted Claim Frequency\")\n",
    "plt.show()"
   ]
  },
  {
   "cell_type": "code",
   "execution_count": 56,
   "metadata": {},
   "outputs": [],
   "source": [
    "class_preds_train = best_classifier.predict(X_train_class)\n",
    "final_preds_train = np.where(class_preds_train == 1, best_regressor.predict(X_train_class), 0)"
   ]
  },
  {
   "cell_type": "code",
   "execution_count": 58,
   "metadata": {},
   "outputs": [
    {
     "name": "stderr",
     "output_type": "stream",
     "text": [
      "C:\\Users\\nortg\\AppData\\Local\\Temp\\ipykernel_1144\\2318911638.py:3: FutureWarning: Setting an item of incompatible dtype is deprecated and will raise an error in a future version of pandas. Value '[1.         2.63157895 1.81818182 ... 1.         2.7027027  1.        ]' has dtype incompatible with int64, please explicitly cast to a compatible dtype first.\n",
      "  final_y_train.loc[idx_class_1] = y.reindex(idx_class_1)\n"
     ]
    }
   ],
   "source": [
    "final_y_train = pd.Series(0, index=y_train_class.index)\n",
    "idx_class_1 = y_train_class[y_train_class == 1].index\n",
    "final_y_train.loc[idx_class_1] = y.reindex(idx_class_1)"
   ]
  },
  {
   "cell_type": "code",
   "execution_count": 61,
   "metadata": {},
   "outputs": [
    {
     "data": {
      "image/png": "[encoded data removed]",
      "text/plain": [
       "<Figure size 640x480 with 1 Axes>"
      ]
     },
     "metadata": {},
     "output_type": "display_data"
    },
    {
     "name": "stdout",
     "output_type": "stream",
     "text": [
      "MSE train:  0.326734841870275\n",
      "MSE test:  0.3522013644070828\n"
     ]
    }
   ],
   "source": [
    "MSE_train = mean_squared_error(final_y_train, final_preds_train)\n",
    "MSE_test = mean_squared_error(final_y_test, final_preds_test)\n",
    "\n",
    "data = pd.DataFrame({\n",
    "    'Category': ['train', 'test'],\n",
    "    'Values': [MSE_train, MSE_test]\n",
    "})\n",
    "\n",
    "# Create the bar plot\n",
    "sns.barplot(x='Category', y='Values', data=data)\n",
    "\n",
    "# Show the plot\n",
    "plt.show()\n",
    "print(\"MSE train: \", MSE_train)\n",
    "print(\"MSE test: \", MSE_test)"
   ]
  }
 ],
 "metadata": {
  "kernelspec": {
   "display_name": ".venv",
   "language": "python",
   "name": "python3"
  },
  "language_info": {
   "codemirror_mode": {
    "name": "ipython",
    "version": 3
   },
   "file_extension": ".py",
   "mimetype": "text/x-python",
   "name": "python",
   "nbconvert_exporter": "python",
   "pygments_lexer": "ipython3",
   "version": "3.11.2"
  }
 },
 "nbformat": 4,
 "nbformat_minor": 2
}
