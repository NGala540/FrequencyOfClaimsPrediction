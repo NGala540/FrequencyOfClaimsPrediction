{
 "cells": [
  {
   "cell_type": "markdown",
   "metadata": {},
   "source": [
    "To summarize the case, given dataset has excessive number of zero-valued observations. Problem can be divited into two seperete problems:\n",
    "1. one that determines whether an event occurs (claim is made)\n",
    "2. other determines frequency of events when they do occur\n",
    "\n",
    "Two possible GLM models that can be taken into considerations in this case are:\n",
    "1. Zero-Inflated Poisson: Assumes that excess zeros come from a separate process, while the remaining data follow a Poisson distribution.\n",
    "2. Zero-Inflated Negative Binomial (ZINB): Extends ZIP by accounting for overdispersion (greater variance than in the Poisson model).\n",
    "\n",
    "We already proven in the data exploration notebook that variance of claim frequency is aproximatelly 2 times bigger than its mean, therefore I will use Likelihood Ratio Test to compare these models.\n"
   ]
  },
  {
   "cell_type": "markdown",
   "metadata": {},
   "source": [
    "### Import libraries and data load"
   ]
  },
  {
   "cell_type": "code",
   "execution_count": 23,
   "metadata": {},
   "outputs": [],
   "source": [
    "import numpy as np\n",
    "import pandas as pd\n",
    "import matplotlib.pyplot as plt\n",
    "import seaborn as sns\n",
    "import statsmodels.api as sm\n",
    "from statsmodels.discrete.count_model import ZeroInflatedPoisson, ZeroInflatedNegativeBinomialP\n",
    "from statsmodels.stats.outliers_influence import variance_inflation_factor\n",
    "from sklearn.model_selection import train_test_split\n",
    "from sklearn.preprocessing import StandardScaler, OneHotEncoder\n",
    "from sklearn.compose import ColumnTransformer\n",
    "from sklearn.pipeline import Pipeline\n",
    "from scipy.stats import chi2\n",
    "import pickle"
   ]
  },
  {
   "cell_type": "code",
   "execution_count": 4,
   "metadata": {},
   "outputs": [
    {
     "data": {
      "text/html": [
       "<div>\n",
       "<style scoped>\n",
       "    .dataframe tbody tr th:only-of-type {\n",
       "        vertical-align: middle;\n",
       "    }\n",
       "\n",
       "    .dataframe tbody tr th {\n",
       "        vertical-align: top;\n",
       "    }\n",
       "\n",
       "    .dataframe thead th {\n",
       "        text-align: right;\n",
       "    }\n",
       "</style>\n",
       "<table border=\"1\" class=\"dataframe\">\n",
       "  <thead>\n",
       "    <tr style=\"text-align: right;\">\n",
       "      <th></th>\n",
       "      <th>VehPower</th>\n",
       "      <th>VehAge</th>\n",
       "      <th>DrivAge</th>\n",
       "      <th>Area</th>\n",
       "      <th>VehBrand</th>\n",
       "      <th>VehGas</th>\n",
       "      <th>Region</th>\n",
       "      <th>ClaimFrequency</th>\n",
       "      <th>VehPowerDriverAge</th>\n",
       "      <th>TransformBonusMalus</th>\n",
       "      <th>TransformDensity</th>\n",
       "      <th>isClaim</th>\n",
       "    </tr>\n",
       "  </thead>\n",
       "  <tbody>\n",
       "    <tr>\n",
       "      <th>0</th>\n",
       "      <td>5.0</td>\n",
       "      <td>0.0</td>\n",
       "      <td>55.0</td>\n",
       "      <td>D</td>\n",
       "      <td>B12</td>\n",
       "      <td>Regular</td>\n",
       "      <td>R82</td>\n",
       "      <td>1.000000</td>\n",
       "      <td>0.090909</td>\n",
       "      <td>3.912023</td>\n",
       "      <td>7.104144</td>\n",
       "      <td>1</td>\n",
       "    </tr>\n",
       "    <tr>\n",
       "      <th>1</th>\n",
       "      <td>5.0</td>\n",
       "      <td>0.0</td>\n",
       "      <td>55.0</td>\n",
       "      <td>D</td>\n",
       "      <td>B12</td>\n",
       "      <td>Regular</td>\n",
       "      <td>R82</td>\n",
       "      <td>1.298701</td>\n",
       "      <td>0.090909</td>\n",
       "      <td>3.912023</td>\n",
       "      <td>7.104144</td>\n",
       "      <td>1</td>\n",
       "    </tr>\n",
       "    <tr>\n",
       "      <th>2</th>\n",
       "      <td>6.0</td>\n",
       "      <td>2.0</td>\n",
       "      <td>52.0</td>\n",
       "      <td>B</td>\n",
       "      <td>B12</td>\n",
       "      <td>Diesel</td>\n",
       "      <td>R22</td>\n",
       "      <td>1.333333</td>\n",
       "      <td>0.115385</td>\n",
       "      <td>3.912023</td>\n",
       "      <td>3.988984</td>\n",
       "      <td>1</td>\n",
       "    </tr>\n",
       "    <tr>\n",
       "      <th>3</th>\n",
       "      <td>7.0</td>\n",
       "      <td>0.0</td>\n",
       "      <td>46.0</td>\n",
       "      <td>B</td>\n",
       "      <td>B12</td>\n",
       "      <td>Diesel</td>\n",
       "      <td>R72</td>\n",
       "      <td>1.190476</td>\n",
       "      <td>0.152174</td>\n",
       "      <td>3.912023</td>\n",
       "      <td>4.330733</td>\n",
       "      <td>1</td>\n",
       "    </tr>\n",
       "    <tr>\n",
       "      <th>4</th>\n",
       "      <td>6.0</td>\n",
       "      <td>2.0</td>\n",
       "      <td>38.0</td>\n",
       "      <td>E</td>\n",
       "      <td>B12</td>\n",
       "      <td>Regular</td>\n",
       "      <td>R31</td>\n",
       "      <td>1.923077</td>\n",
       "      <td>0.157895</td>\n",
       "      <td>3.912023</td>\n",
       "      <td>8.007367</td>\n",
       "      <td>1</td>\n",
       "    </tr>\n",
       "    <tr>\n",
       "      <th>...</th>\n",
       "      <td>...</td>\n",
       "      <td>...</td>\n",
       "      <td>...</td>\n",
       "      <td>...</td>\n",
       "      <td>...</td>\n",
       "      <td>...</td>\n",
       "      <td>...</td>\n",
       "      <td>...</td>\n",
       "      <td>...</td>\n",
       "      <td>...</td>\n",
       "      <td>...</td>\n",
       "      <td>...</td>\n",
       "    </tr>\n",
       "    <tr>\n",
       "      <th>677997</th>\n",
       "      <td>4.0</td>\n",
       "      <td>0.0</td>\n",
       "      <td>54.0</td>\n",
       "      <td>E</td>\n",
       "      <td>B12</td>\n",
       "      <td>Regular</td>\n",
       "      <td>R93</td>\n",
       "      <td>0.000000</td>\n",
       "      <td>0.074074</td>\n",
       "      <td>3.912023</td>\n",
       "      <td>8.106816</td>\n",
       "      <td>0</td>\n",
       "    </tr>\n",
       "    <tr>\n",
       "      <th>677998</th>\n",
       "      <td>4.0</td>\n",
       "      <td>0.0</td>\n",
       "      <td>41.0</td>\n",
       "      <td>E</td>\n",
       "      <td>B12</td>\n",
       "      <td>Regular</td>\n",
       "      <td>R11</td>\n",
       "      <td>0.000000</td>\n",
       "      <td>0.097561</td>\n",
       "      <td>4.553877</td>\n",
       "      <td>9.195227</td>\n",
       "      <td>0</td>\n",
       "    </tr>\n",
       "    <tr>\n",
       "      <th>677999</th>\n",
       "      <td>6.0</td>\n",
       "      <td>2.0</td>\n",
       "      <td>45.0</td>\n",
       "      <td>D</td>\n",
       "      <td>B12</td>\n",
       "      <td>Diesel</td>\n",
       "      <td>R82</td>\n",
       "      <td>0.000000</td>\n",
       "      <td>0.133333</td>\n",
       "      <td>3.912023</td>\n",
       "      <td>7.187657</td>\n",
       "      <td>0</td>\n",
       "    </tr>\n",
       "    <tr>\n",
       "      <th>678000</th>\n",
       "      <td>4.0</td>\n",
       "      <td>0.0</td>\n",
       "      <td>60.0</td>\n",
       "      <td>B</td>\n",
       "      <td>B12</td>\n",
       "      <td>Regular</td>\n",
       "      <td>R26</td>\n",
       "      <td>0.000000</td>\n",
       "      <td>0.066667</td>\n",
       "      <td>3.912023</td>\n",
       "      <td>4.553877</td>\n",
       "      <td>0</td>\n",
       "    </tr>\n",
       "    <tr>\n",
       "      <th>678001</th>\n",
       "      <td>7.0</td>\n",
       "      <td>6.0</td>\n",
       "      <td>29.0</td>\n",
       "      <td>B</td>\n",
       "      <td>B12</td>\n",
       "      <td>Diesel</td>\n",
       "      <td>R72</td>\n",
       "      <td>0.000000</td>\n",
       "      <td>0.241379</td>\n",
       "      <td>3.988984</td>\n",
       "      <td>4.174387</td>\n",
       "      <td>0</td>\n",
       "    </tr>\n",
       "  </tbody>\n",
       "</table>\n",
       "<p>678002 rows × 12 columns</p>\n",
       "</div>"
      ],
      "text/plain": [
       "        VehPower  VehAge  DrivAge Area VehBrand   VehGas Region  \\\n",
       "0            5.0     0.0     55.0    D      B12  Regular    R82   \n",
       "1            5.0     0.0     55.0    D      B12  Regular    R82   \n",
       "2            6.0     2.0     52.0    B      B12   Diesel    R22   \n",
       "3            7.0     0.0     46.0    B      B12   Diesel    R72   \n",
       "4            6.0     2.0     38.0    E      B12  Regular    R31   \n",
       "...          ...     ...      ...  ...      ...      ...    ...   \n",
       "677997       4.0     0.0     54.0    E      B12  Regular    R93   \n",
       "677998       4.0     0.0     41.0    E      B12  Regular    R11   \n",
       "677999       6.0     2.0     45.0    D      B12   Diesel    R82   \n",
       "678000       4.0     0.0     60.0    B      B12  Regular    R26   \n",
       "678001       7.0     6.0     29.0    B      B12   Diesel    R72   \n",
       "\n",
       "        ClaimFrequency  VehPowerDriverAge  TransformBonusMalus  \\\n",
       "0             1.000000           0.090909             3.912023   \n",
       "1             1.298701           0.090909             3.912023   \n",
       "2             1.333333           0.115385             3.912023   \n",
       "3             1.190476           0.152174             3.912023   \n",
       "4             1.923077           0.157895             3.912023   \n",
       "...                ...                ...                  ...   \n",
       "677997        0.000000           0.074074             3.912023   \n",
       "677998        0.000000           0.097561             4.553877   \n",
       "677999        0.000000           0.133333             3.912023   \n",
       "678000        0.000000           0.066667             3.912023   \n",
       "678001        0.000000           0.241379             3.988984   \n",
       "\n",
       "        TransformDensity  isClaim  \n",
       "0               7.104144        1  \n",
       "1               7.104144        1  \n",
       "2               3.988984        1  \n",
       "3               4.330733        1  \n",
       "4               8.007367        1  \n",
       "...                  ...      ...  \n",
       "677997          8.106816        0  \n",
       "677998          9.195227        0  \n",
       "677999          7.187657        0  \n",
       "678000          4.553877        0  \n",
       "678001          4.174387        0  \n",
       "\n",
       "[678002 rows x 12 columns]"
      ]
     },
     "execution_count": 4,
     "metadata": {},
     "output_type": "execute_result"
    }
   ],
   "source": [
    "df = pd.read_csv(\"feature_selected_data.csv\")\n",
    "df"
   ]
  },
  {
   "cell_type": "markdown",
   "metadata": {},
   "source": [
    "### Preprocess data for model training"
   ]
  },
  {
   "cell_type": "code",
   "execution_count": null,
   "metadata": {},
   "outputs": [],
   "source": [
    "X = df.drop(columns=['ClaimFrequency', \"isClaim\"], axis=1)\n",
    "y = df['ClaimFrequency']\n",
    "\n",
    "X_train, X_test, y_train, y_test = train_test_split(X, y, test_size=0.2, random_state=42)\n",
    "\n",
    "num_features = X.select_dtypes(include=['int64', 'float64']).columns\n",
    "cat_features = X.select_dtypes(include=['object']).columns"
   ]
  },
  {
   "cell_type": "code",
   "execution_count": null,
   "metadata": {},
   "outputs": [],
   "source": [
    "preprocessor = ColumnTransformer([\n",
    "    ('num', StandardScaler(), num_features),\n",
    "    ('cat', OneHotEncoder(drop=\"first\"), cat_features) # droping first categorical variable to avoid colinearity (Area_A, Region_R11, VehBrand_B1, VehGas_Diesel)\n",
    "])\n",
    "\n",
    "X_train_transformed = preprocessor.fit_transform(X_train)\n",
    "X_test_transformed = preprocessor.transform(X_test)\n",
    "\n",
    "X_train_transformed = pd.DataFrame(X_train_transformed.toarray(), columns=preprocessor.get_feature_names_out())\n",
    "X_test_transformed = pd.DataFrame(X_test_transformed.toarray(), columns=preprocessor.get_feature_names_out())"
   ]
  },
  {
   "cell_type": "code",
   "execution_count": 12,
   "metadata": {},
   "outputs": [],
   "source": [
    "y_train = y_train.reset_index(drop=True)\n",
    "y_test = y_test.reset_index(drop=True) "
   ]
  },
  {
   "cell_type": "code",
   "execution_count": 24,
   "metadata": {},
   "outputs": [
    {
     "name": "stdout",
     "output_type": "stream",
     "text": [
      "                  Feature        VIF\n",
      "3  num__VehPowerDriverAge  10.301801\n"
     ]
    }
   ],
   "source": [
    "vif_data = pd.DataFrame()\n",
    "vif_data[\"Feature\"] = X_train_transformed.columns\n",
    "vif_data[\"VIF\"] = [variance_inflation_factor(X_train_transformed.values, i) for i in range(X_train_transformed.shape[1])]\n",
    "\n",
    "print(vif_data[vif_data[\"VIF\"] > 10])"
   ]
  },
  {
   "cell_type": "code",
   "execution_count": 25,
   "metadata": {},
   "outputs": [],
   "source": [
    "X_train_transformed.drop(columns=[\"num__VehPowerDriverAge\"], axis=1, inplace=True)\n",
    "X_test_transformed.drop(columns=[\"num__VehPowerDriverAge\"], axis=1, inplace=True)"
   ]
  },
  {
   "cell_type": "markdown",
   "metadata": {},
   "source": [
    "### Likelihood Ratio Test"
   ]
  },
  {
   "cell_type": "code",
   "execution_count": 28,
   "metadata": {},
   "outputs": [
    {
     "name": "stderr",
     "output_type": "stream",
     "text": [
      "d:\\Projects\\PricingRecrutationProject\\FrequencyOfClaimsPrediction\\.venv\\Lib\\site-packages\\scipy\\optimize\\_optimize.py:1313: OptimizeWarning: Maximum number of iterations has been exceeded.\n",
      "  res = _minimize_bfgs(f, x0, args, fprime, callback=callback, **opts)\n"
     ]
    },
    {
     "name": "stdout",
     "output_type": "stream",
     "text": [
      "         Current function value: 0.248864\n",
      "         Iterations: 35\n",
      "         Function evaluations: 37\n",
      "         Gradient evaluations: 37\n"
     ]
    },
    {
     "name": "stderr",
     "output_type": "stream",
     "text": [
      "d:\\Projects\\PricingRecrutationProject\\FrequencyOfClaimsPrediction\\.venv\\Lib\\site-packages\\statsmodels\\base\\model.py:607: ConvergenceWarning: Maximum Likelihood optimization failed to converge. Check mle_retvals\n",
      "  warnings.warn(\"Maximum Likelihood optimization failed to \"\n"
     ]
    },
    {
     "name": "stdout",
     "output_type": "stream",
     "text": [
      "                     ZeroInflatedPoisson Regression Results                    \n",
      "===============================================================================\n",
      "Dep. Variable:          ClaimFrequency   No. Observations:               542401\n",
      "Model:             ZeroInflatedPoisson   Df Residuals:                   542358\n",
      "Method:                            MLE   Df Model:                           42\n",
      "Date:                 Wed, 12 Mar 2025   Pseudo R-squ.:                0.005102\n",
      "Time:                         22:52:06   Log-Likelihood:            -1.3498e+05\n",
      "converged:                       False   LL-Null:                   -1.3568e+05\n",
      "Covariance Type:             nonrobust   LLR p-value:                6.489e-263\n",
      "============================================================================================\n",
      "                               coef    std err          z      P>|z|      [0.025      0.975]\n",
      "--------------------------------------------------------------------------------------------\n",
      "inflate_const                2.2794      0.006    352.884      0.000       2.267       2.292\n",
      "const                       -0.7221      0.050    -14.471      0.000      -0.820      -0.624\n",
      "num__VehPower                0.0090      0.006      1.393      0.164      -0.004       0.022\n",
      "num__VehAge                 -0.0964      0.007    -13.155      0.000      -0.111      -0.082\n",
      "num__DrivAge                 0.0791      0.007     12.026      0.000       0.066       0.092\n",
      "num__TransformBonusMalus     0.2109      0.006     36.933      0.000       0.200       0.222\n",
      "num__TransformDensity       -0.0145      0.027     -0.540      0.589      -0.067       0.038\n",
      "cat__Area_B                  0.2189      0.029      7.465      0.000       0.161       0.276\n",
      "cat__Area_C                  0.2213      0.038      5.826      0.000       0.147       0.296\n",
      "cat__Area_D                  0.3028      0.057      5.282      0.000       0.190       0.415\n",
      "cat__Area_E                  0.3596      0.076      4.725      0.000       0.210       0.509\n",
      "cat__Area_F                  0.1974      0.105      1.876      0.061      -0.009       0.404\n",
      "cat__VehBrand_B10            0.0607      0.042      1.443      0.149      -0.022       0.143\n",
      "cat__VehBrand_B11            0.0662      0.045      1.461      0.144      -0.023       0.155\n",
      "cat__VehBrand_B12            0.2719      0.021     13.195      0.000       0.231       0.312\n",
      "cat__VehBrand_B13            0.0613      0.047      1.311      0.190      -0.030       0.153\n",
      "cat__VehBrand_B14            0.0065      0.086      0.075      0.940      -0.163       0.176\n",
      "cat__VehBrand_B2             0.0740      0.018      4.196      0.000       0.039       0.109\n",
      "cat__VehBrand_B3             0.1542      0.025      6.261      0.000       0.106       0.203\n",
      "cat__VehBrand_B4             0.0766      0.034      2.273      0.023       0.011       0.143\n",
      "cat__VehBrand_B5             0.1726      0.028      6.160      0.000       0.118       0.228\n",
      "cat__VehBrand_B6             0.0776      0.032      2.408      0.016       0.014       0.141\n",
      "cat__VehGas_Regular          0.0131      0.013      1.051      0.293      -0.011       0.038\n",
      "cat__Region_R21              0.0240      0.094      0.255      0.799      -0.161       0.209\n",
      "cat__Region_R22              0.0629      0.059      1.065      0.287      -0.053       0.179\n",
      "cat__Region_R23             -0.0318      0.068     -0.465      0.642      -0.166       0.102\n",
      "cat__Region_R24              0.2410      0.028      8.755      0.000       0.187       0.295\n",
      "cat__Region_R25              0.0945      0.052      1.806      0.071      -0.008       0.197\n",
      "cat__Region_R26              0.0356      0.055      0.647      0.518      -0.072       0.143\n",
      "cat__Region_R31             -0.0369      0.040     -0.919      0.358      -0.116       0.042\n",
      "cat__Region_R41             -0.0111      0.052     -0.214      0.831      -0.113       0.091\n",
      "cat__Region_R42              0.0115      0.102      0.113      0.910      -0.188       0.211\n",
      "cat__Region_R43             -0.0022      0.149     -0.015      0.988      -0.294       0.289\n",
      "cat__Region_R52              0.1492      0.034      4.373      0.000       0.082       0.216\n",
      "cat__Region_R53              0.2570      0.033      7.899      0.000       0.193       0.321\n",
      "cat__Region_R54              0.0960      0.044      2.197      0.028       0.010       0.182\n",
      "cat__Region_R72              0.0454      0.038      1.199      0.230      -0.029       0.120\n",
      "cat__Region_R73             -0.0350      0.048     -0.732      0.464      -0.129       0.059\n",
      "cat__Region_R74              0.0567      0.081      0.699      0.485      -0.102       0.216\n",
      "cat__Region_R82              0.2244      0.027      8.267      0.000       0.171       0.278\n",
      "cat__Region_R83             -0.0049      0.083     -0.059      0.953      -0.167       0.157\n",
      "cat__Region_R91             -0.0119      0.038     -0.314      0.753      -0.086       0.062\n",
      "cat__Region_R93              0.1543      0.028      5.475      0.000       0.099       0.210\n",
      "cat__Region_R94              0.0469      0.079      0.597      0.550      -0.107       0.201\n",
      "============================================================================================\n"
     ]
    },
    {
     "name": "stderr",
     "output_type": "stream",
     "text": [
      "d:\\Projects\\PricingRecrutationProject\\FrequencyOfClaimsPrediction\\.venv\\Lib\\site-packages\\scipy\\optimize\\_optimize.py:1313: OptimizeWarning: Maximum number of iterations has been exceeded.\n",
      "  res = _minimize_bfgs(f, x0, args, fprime, callback=callback, **opts)\n"
     ]
    },
    {
     "name": "stdout",
     "output_type": "stream",
     "text": [
      "         Current function value: 0.248728\n",
      "         Iterations: 35\n",
      "         Function evaluations: 38\n",
      "         Gradient evaluations: 38\n"
     ]
    },
    {
     "name": "stderr",
     "output_type": "stream",
     "text": [
      "d:\\Projects\\PricingRecrutationProject\\FrequencyOfClaimsPrediction\\.venv\\Lib\\site-packages\\statsmodels\\base\\model.py:595: HessianInversionWarning: Inverting hessian failed, no bse or cov_params available\n",
      "  warnings.warn('Inverting hessian failed, no bse or cov_params '\n",
      "d:\\Projects\\PricingRecrutationProject\\FrequencyOfClaimsPrediction\\.venv\\Lib\\site-packages\\statsmodels\\base\\model.py:607: ConvergenceWarning: Maximum Likelihood optimization failed to converge. Check mle_retvals\n",
      "  warnings.warn(\"Maximum Likelihood optimization failed to \"\n"
     ]
    },
    {
     "name": "stdout",
     "output_type": "stream",
     "text": [
      "                     ZeroInflatedNegativeBinomialP Regression Results                    \n",
      "=========================================================================================\n",
      "Dep. Variable:                    ClaimFrequency   No. Observations:               542401\n",
      "Model:             ZeroInflatedNegativeBinomialP   Df Residuals:                   542358\n",
      "Method:                                      MLE   Df Model:                           42\n",
      "Date:                           Wed, 12 Mar 2025   Pseudo R-squ.:                0.004105\n",
      "Time:                                   23:07:52   Log-Likelihood:            -1.3491e+05\n",
      "converged:                                 False   LL-Null:                   -1.3547e+05\n",
      "Covariance Type:                       nonrobust   LLR p-value:                1.027e-205\n",
      "============================================================================================\n",
      "                               coef    std err          z      P>|z|      [0.025      0.975]\n",
      "--------------------------------------------------------------------------------------------\n",
      "inflate_const               -2.8946        nan        nan        nan         nan         nan\n",
      "const                       -2.5314        nan        nan        nan         nan         nan\n",
      "num__VehPower                0.0124        nan        nan        nan         nan         nan\n",
      "num__VehAge                 -0.1582        nan        nan        nan         nan         nan\n",
      "num__DrivAge                 0.1778        nan        nan        nan         nan         nan\n",
      "num__TransformBonusMalus     0.3263        nan        nan        nan         nan         nan\n",
      "num__TransformDensity        0.0454        nan        nan        nan         nan         nan\n",
      "cat__Area_B                  0.0045        nan        nan        nan         nan         nan\n",
      "cat__Area_C                 -0.0376        nan        nan        nan         nan         nan\n",
      "cat__Area_D                  0.0098        nan        nan        nan         nan         nan\n",
      "cat__Area_E                  0.0008        nan        nan        nan         nan         nan\n",
      "cat__Area_F                  0.0174        nan        nan        nan         nan         nan\n",
      "cat__VehBrand_B10           -0.0458        nan        nan        nan         nan         nan\n",
      "cat__VehBrand_B11            0.0174        nan        nan        nan         nan         nan\n",
      "cat__VehBrand_B12           -0.0149        nan        nan        nan         nan         nan\n",
      "cat__VehBrand_B13            0.0218        nan        nan        nan         nan         nan\n",
      "cat__VehBrand_B14           -0.0894        nan        nan        nan         nan         nan\n",
      "cat__VehBrand_B2            -0.0752        nan        nan        nan         nan         nan\n",
      "cat__VehBrand_B3            -0.0112        nan        nan        nan         nan         nan\n",
      "cat__VehBrand_B4            -0.0027        nan        nan        nan         nan         nan\n",
      "cat__VehBrand_B5             0.0924        nan        nan        nan         nan         nan\n",
      "cat__VehBrand_B6            -0.0332        nan        nan        nan         nan         nan\n",
      "cat__VehGas_Regular          0.0102        nan        nan        nan         nan         nan\n",
      "cat__Region_R21              0.0325        nan        nan        nan         nan         nan\n",
      "cat__Region_R22              0.0552        nan        nan        nan         nan         nan\n",
      "cat__Region_R23             -0.3358        nan        nan        nan         nan         nan\n",
      "cat__Region_R24              0.0843        nan        nan        nan         nan         nan\n",
      "cat__Region_R25              0.1107        nan        nan        nan         nan         nan\n",
      "cat__Region_R26             -0.0366        nan        nan        nan         nan         nan\n",
      "cat__Region_R31             -0.2224        nan        nan        nan         nan         nan\n",
      "cat__Region_R41             -0.1539        nan        nan        nan         nan         nan\n",
      "cat__Region_R42              0.0355        nan        nan        nan         nan         nan\n",
      "cat__Region_R43             -0.1914        nan        nan        nan         nan         nan\n",
      "cat__Region_R52              0.0273        nan        nan        nan         nan         nan\n",
      "cat__Region_R53              0.1775        nan        nan        nan         nan         nan\n",
      "cat__Region_R54              0.0296        nan        nan        nan         nan         nan\n",
      "cat__Region_R72             -0.1210        nan        nan        nan         nan         nan\n",
      "cat__Region_R73             -0.2235        nan        nan        nan         nan         nan\n",
      "cat__Region_R74              0.1652        nan        nan        nan         nan         nan\n",
      "cat__Region_R82              0.0648        nan        nan        nan         nan         nan\n",
      "cat__Region_R83             -0.2299        nan        nan        nan         nan         nan\n",
      "cat__Region_R91             -0.1782        nan        nan        nan         nan         nan\n",
      "cat__Region_R93             -0.0577        nan        nan        nan         nan         nan\n",
      "cat__Region_R94              0.0714        nan        nan        nan         nan         nan\n",
      "alpha                       12.5225        nan        nan        nan         nan         nan\n",
      "============================================================================================\n"
     ]
    }
   ],
   "source": [
    "# Fit Zero-Inflated Poisson (ZIP) Model\n",
    "zip_model = ZeroInflatedPoisson(y_train, sm.add_constant(X_train_transformed)).fit()\n",
    "print(zip_model.summary())\n",
    "\n",
    "# Fit Zero-Inflated Negative Binomial (ZINB) Model\n",
    "zinb_model = ZeroInflatedNegativeBinomialP(y_train, sm.add_constant(X_train_transformed)).fit()\n",
    "print(zinb_model.summary())"
   ]
  },
  {
   "cell_type": "code",
   "execution_count": 29,
   "metadata": {},
   "outputs": [
    {
     "name": "stdout",
     "output_type": "stream",
     "text": [
      "Likelihood Ratio Test Statistic: 147.2390123611549, p-value: nan\n",
      "Selected Model: ZIP\n"
     ]
    }
   ],
   "source": [
    "# Likelihood Ratio Test to compare models\n",
    "lr_stat = 2 * (zinb_model.llf - zip_model.llf)\n",
    "df_diff = zinb_model.df_model - zip_model.df_model\n",
    "p_value = chi2.sf(lr_stat, df_diff)\n",
    "print(f\"Likelihood Ratio Test Statistic: {lr_stat}, p-value: {p_value}\")\n",
    "\n",
    "best_model = zinb_model if p_value < 0.05 else zip_model\n",
    "print(\"Selected Model:\", \"ZINB\" if p_value < 0.05 else \"ZIP\")\n",
    "\n",
    "with open('glm_model_all.pkl','wb') as f:\n",
    "    pickle.dump(best_model,f)"
   ]
  },
  {
   "cell_type": "markdown",
   "metadata": {},
   "source": [
    "### Feature selection and model training"
   ]
  },
  {
   "cell_type": "code",
   "execution_count": 30,
   "metadata": {},
   "outputs": [],
   "source": [
    "# Backward Stepwise Feature Selection\n",
    "def backward_stepwise_selection(model, X, y, threshold=0.05):\n",
    "    model_class = model.model.__class__\n",
    "    while True:\n",
    "        p_values = model.pvalues.drop('const')  # Exclude intercept\n",
    "        worst_feature = p_values.idxmax()\n",
    "        if p_values.max() > threshold:\n",
    "            X = X.drop(columns=[worst_feature])\n",
    "            model = model_class(y, sm.add_constant(X)).fit() \n",
    "        else:\n",
    "            break\n",
    "    return model, X"
   ]
  },
  {
   "cell_type": "code",
   "execution_count": 31,
   "metadata": {},
   "outputs": [
    {
     "name": "stderr",
     "output_type": "stream",
     "text": [
      "d:\\Projects\\PricingRecrutationProject\\FrequencyOfClaimsPrediction\\.venv\\Lib\\site-packages\\scipy\\optimize\\_optimize.py:1313: OptimizeWarning: Maximum number of iterations has been exceeded.\n",
      "  res = _minimize_bfgs(f, x0, args, fprime, callback=callback, **opts)\n"
     ]
    },
    {
     "name": "stdout",
     "output_type": "stream",
     "text": [
      "         Current function value: 0.248864\n",
      "         Iterations: 35\n",
      "         Function evaluations: 37\n",
      "         Gradient evaluations: 37\n"
     ]
    },
    {
     "name": "stderr",
     "output_type": "stream",
     "text": [
      "d:\\Projects\\PricingRecrutationProject\\FrequencyOfClaimsPrediction\\.venv\\Lib\\site-packages\\statsmodels\\base\\model.py:607: ConvergenceWarning: Maximum Likelihood optimization failed to converge. Check mle_retvals\n",
      "  warnings.warn(\"Maximum Likelihood optimization failed to \"\n",
      "d:\\Projects\\PricingRecrutationProject\\FrequencyOfClaimsPrediction\\.venv\\Lib\\site-packages\\scipy\\optimize\\_optimize.py:1313: OptimizeWarning: Maximum number of iterations has been exceeded.\n",
      "  res = _minimize_bfgs(f, x0, args, fprime, callback=callback, **opts)\n"
     ]
    },
    {
     "name": "stdout",
     "output_type": "stream",
     "text": [
      "         Current function value: 0.248864\n",
      "         Iterations: 35\n",
      "         Function evaluations: 37\n",
      "         Gradient evaluations: 37\n"
     ]
    },
    {
     "name": "stderr",
     "output_type": "stream",
     "text": [
      "d:\\Projects\\PricingRecrutationProject\\FrequencyOfClaimsPrediction\\.venv\\Lib\\site-packages\\statsmodels\\base\\model.py:607: ConvergenceWarning: Maximum Likelihood optimization failed to converge. Check mle_retvals\n",
      "  warnings.warn(\"Maximum Likelihood optimization failed to \"\n",
      "d:\\Projects\\PricingRecrutationProject\\FrequencyOfClaimsPrediction\\.venv\\Lib\\site-packages\\scipy\\optimize\\_optimize.py:1313: OptimizeWarning: Maximum number of iterations has been exceeded.\n",
      "  res = _minimize_bfgs(f, x0, args, fprime, callback=callback, **opts)\n"
     ]
    },
    {
     "name": "stdout",
     "output_type": "stream",
     "text": [
      "         Current function value: 0.248864\n",
      "         Iterations: 35\n",
      "         Function evaluations: 37\n",
      "         Gradient evaluations: 37\n"
     ]
    },
    {
     "name": "stderr",
     "output_type": "stream",
     "text": [
      "d:\\Projects\\PricingRecrutationProject\\FrequencyOfClaimsPrediction\\.venv\\Lib\\site-packages\\statsmodels\\base\\model.py:607: ConvergenceWarning: Maximum Likelihood optimization failed to converge. Check mle_retvals\n",
      "  warnings.warn(\"Maximum Likelihood optimization failed to \"\n",
      "d:\\Projects\\PricingRecrutationProject\\FrequencyOfClaimsPrediction\\.venv\\Lib\\site-packages\\scipy\\optimize\\_optimize.py:1313: OptimizeWarning: Maximum number of iterations has been exceeded.\n",
      "  res = _minimize_bfgs(f, x0, args, fprime, callback=callback, **opts)\n"
     ]
    },
    {
     "name": "stdout",
     "output_type": "stream",
     "text": [
      "         Current function value: 0.248864\n",
      "         Iterations: 35\n",
      "         Function evaluations: 37\n",
      "         Gradient evaluations: 37\n"
     ]
    },
    {
     "name": "stderr",
     "output_type": "stream",
     "text": [
      "d:\\Projects\\PricingRecrutationProject\\FrequencyOfClaimsPrediction\\.venv\\Lib\\site-packages\\statsmodels\\base\\model.py:607: ConvergenceWarning: Maximum Likelihood optimization failed to converge. Check mle_retvals\n",
      "  warnings.warn(\"Maximum Likelihood optimization failed to \"\n",
      "d:\\Projects\\PricingRecrutationProject\\FrequencyOfClaimsPrediction\\.venv\\Lib\\site-packages\\scipy\\optimize\\_optimize.py:1313: OptimizeWarning: Maximum number of iterations has been exceeded.\n",
      "  res = _minimize_bfgs(f, x0, args, fprime, callback=callback, **opts)\n"
     ]
    },
    {
     "name": "stdout",
     "output_type": "stream",
     "text": [
      "         Current function value: 0.248865\n",
      "         Iterations: 35\n",
      "         Function evaluations: 37\n",
      "         Gradient evaluations: 37\n"
     ]
    },
    {
     "name": "stderr",
     "output_type": "stream",
     "text": [
      "d:\\Projects\\PricingRecrutationProject\\FrequencyOfClaimsPrediction\\.venv\\Lib\\site-packages\\statsmodels\\base\\model.py:607: ConvergenceWarning: Maximum Likelihood optimization failed to converge. Check mle_retvals\n",
      "  warnings.warn(\"Maximum Likelihood optimization failed to \"\n",
      "d:\\Projects\\PricingRecrutationProject\\FrequencyOfClaimsPrediction\\.venv\\Lib\\site-packages\\scipy\\optimize\\_optimize.py:1313: OptimizeWarning: Maximum number of iterations has been exceeded.\n",
      "  res = _minimize_bfgs(f, x0, args, fprime, callback=callback, **opts)\n"
     ]
    },
    {
     "name": "stdout",
     "output_type": "stream",
     "text": [
      "         Current function value: 0.248865\n",
      "         Iterations: 35\n",
      "         Function evaluations: 37\n",
      "         Gradient evaluations: 37\n"
     ]
    },
    {
     "name": "stderr",
     "output_type": "stream",
     "text": [
      "d:\\Projects\\PricingRecrutationProject\\FrequencyOfClaimsPrediction\\.venv\\Lib\\site-packages\\statsmodels\\base\\model.py:607: ConvergenceWarning: Maximum Likelihood optimization failed to converge. Check mle_retvals\n",
      "  warnings.warn(\"Maximum Likelihood optimization failed to \"\n",
      "d:\\Projects\\PricingRecrutationProject\\FrequencyOfClaimsPrediction\\.venv\\Lib\\site-packages\\scipy\\optimize\\_optimize.py:1313: OptimizeWarning: Maximum number of iterations has been exceeded.\n",
      "  res = _minimize_bfgs(f, x0, args, fprime, callback=callback, **opts)\n"
     ]
    },
    {
     "name": "stdout",
     "output_type": "stream",
     "text": [
      "         Current function value: 0.248866\n",
      "         Iterations: 35\n",
      "         Function evaluations: 37\n",
      "         Gradient evaluations: 37\n"
     ]
    },
    {
     "name": "stderr",
     "output_type": "stream",
     "text": [
      "d:\\Projects\\PricingRecrutationProject\\FrequencyOfClaimsPrediction\\.venv\\Lib\\site-packages\\statsmodels\\base\\model.py:607: ConvergenceWarning: Maximum Likelihood optimization failed to converge. Check mle_retvals\n",
      "  warnings.warn(\"Maximum Likelihood optimization failed to \"\n",
      "d:\\Projects\\PricingRecrutationProject\\FrequencyOfClaimsPrediction\\.venv\\Lib\\site-packages\\scipy\\optimize\\_optimize.py:1313: OptimizeWarning: Maximum number of iterations has been exceeded.\n",
      "  res = _minimize_bfgs(f, x0, args, fprime, callback=callback, **opts)\n"
     ]
    },
    {
     "name": "stdout",
     "output_type": "stream",
     "text": [
      "         Current function value: 0.248867\n",
      "         Iterations: 35\n",
      "         Function evaluations: 37\n",
      "         Gradient evaluations: 37\n"
     ]
    },
    {
     "name": "stderr",
     "output_type": "stream",
     "text": [
      "d:\\Projects\\PricingRecrutationProject\\FrequencyOfClaimsPrediction\\.venv\\Lib\\site-packages\\statsmodels\\base\\model.py:607: ConvergenceWarning: Maximum Likelihood optimization failed to converge. Check mle_retvals\n",
      "  warnings.warn(\"Maximum Likelihood optimization failed to \"\n",
      "d:\\Projects\\PricingRecrutationProject\\FrequencyOfClaimsPrediction\\.venv\\Lib\\site-packages\\scipy\\optimize\\_optimize.py:1313: OptimizeWarning: Maximum number of iterations has been exceeded.\n",
      "  res = _minimize_bfgs(f, x0, args, fprime, callback=callback, **opts)\n"
     ]
    },
    {
     "name": "stdout",
     "output_type": "stream",
     "text": [
      "         Current function value: 0.248873\n",
      "         Iterations: 35\n",
      "         Function evaluations: 37\n",
      "         Gradient evaluations: 37\n"
     ]
    },
    {
     "name": "stderr",
     "output_type": "stream",
     "text": [
      "d:\\Projects\\PricingRecrutationProject\\FrequencyOfClaimsPrediction\\.venv\\Lib\\site-packages\\statsmodels\\base\\model.py:607: ConvergenceWarning: Maximum Likelihood optimization failed to converge. Check mle_retvals\n",
      "  warnings.warn(\"Maximum Likelihood optimization failed to \"\n",
      "d:\\Projects\\PricingRecrutationProject\\FrequencyOfClaimsPrediction\\.venv\\Lib\\site-packages\\scipy\\optimize\\_optimize.py:1313: OptimizeWarning: Maximum number of iterations has been exceeded.\n",
      "  res = _minimize_bfgs(f, x0, args, fprime, callback=callback, **opts)\n"
     ]
    },
    {
     "name": "stdout",
     "output_type": "stream",
     "text": [
      "         Current function value: 0.248878\n",
      "         Iterations: 35\n",
      "         Function evaluations: 37\n",
      "         Gradient evaluations: 37\n"
     ]
    },
    {
     "name": "stderr",
     "output_type": "stream",
     "text": [
      "d:\\Projects\\PricingRecrutationProject\\FrequencyOfClaimsPrediction\\.venv\\Lib\\site-packages\\statsmodels\\base\\model.py:607: ConvergenceWarning: Maximum Likelihood optimization failed to converge. Check mle_retvals\n",
      "  warnings.warn(\"Maximum Likelihood optimization failed to \"\n",
      "d:\\Projects\\PricingRecrutationProject\\FrequencyOfClaimsPrediction\\.venv\\Lib\\site-packages\\scipy\\optimize\\_optimize.py:1313: OptimizeWarning: Maximum number of iterations has been exceeded.\n",
      "  res = _minimize_bfgs(f, x0, args, fprime, callback=callback, **opts)\n"
     ]
    },
    {
     "name": "stdout",
     "output_type": "stream",
     "text": [
      "         Current function value: 0.248882\n",
      "         Iterations: 35\n",
      "         Function evaluations: 37\n",
      "         Gradient evaluations: 37\n"
     ]
    },
    {
     "name": "stderr",
     "output_type": "stream",
     "text": [
      "d:\\Projects\\PricingRecrutationProject\\FrequencyOfClaimsPrediction\\.venv\\Lib\\site-packages\\statsmodels\\base\\model.py:607: ConvergenceWarning: Maximum Likelihood optimization failed to converge. Check mle_retvals\n",
      "  warnings.warn(\"Maximum Likelihood optimization failed to \"\n",
      "d:\\Projects\\PricingRecrutationProject\\FrequencyOfClaimsPrediction\\.venv\\Lib\\site-packages\\scipy\\optimize\\_optimize.py:1313: OptimizeWarning: Maximum number of iterations has been exceeded.\n",
      "  res = _minimize_bfgs(f, x0, args, fprime, callback=callback, **opts)\n"
     ]
    },
    {
     "name": "stdout",
     "output_type": "stream",
     "text": [
      "         Current function value: 0.248884\n",
      "         Iterations: 35\n",
      "         Function evaluations: 37\n",
      "         Gradient evaluations: 37\n"
     ]
    },
    {
     "name": "stderr",
     "output_type": "stream",
     "text": [
      "d:\\Projects\\PricingRecrutationProject\\FrequencyOfClaimsPrediction\\.venv\\Lib\\site-packages\\statsmodels\\base\\model.py:607: ConvergenceWarning: Maximum Likelihood optimization failed to converge. Check mle_retvals\n",
      "  warnings.warn(\"Maximum Likelihood optimization failed to \"\n",
      "d:\\Projects\\PricingRecrutationProject\\FrequencyOfClaimsPrediction\\.venv\\Lib\\site-packages\\scipy\\optimize\\_optimize.py:1313: OptimizeWarning: Maximum number of iterations has been exceeded.\n",
      "  res = _minimize_bfgs(f, x0, args, fprime, callback=callback, **opts)\n"
     ]
    },
    {
     "name": "stdout",
     "output_type": "stream",
     "text": [
      "         Current function value: 0.248889\n",
      "         Iterations: 35\n",
      "         Function evaluations: 37\n",
      "         Gradient evaluations: 37\n"
     ]
    },
    {
     "name": "stderr",
     "output_type": "stream",
     "text": [
      "d:\\Projects\\PricingRecrutationProject\\FrequencyOfClaimsPrediction\\.venv\\Lib\\site-packages\\statsmodels\\base\\model.py:607: ConvergenceWarning: Maximum Likelihood optimization failed to converge. Check mle_retvals\n",
      "  warnings.warn(\"Maximum Likelihood optimization failed to \"\n",
      "d:\\Projects\\PricingRecrutationProject\\FrequencyOfClaimsPrediction\\.venv\\Lib\\site-packages\\scipy\\optimize\\_optimize.py:1313: OptimizeWarning: Maximum number of iterations has been exceeded.\n",
      "  res = _minimize_bfgs(f, x0, args, fprime, callback=callback, **opts)\n"
     ]
    },
    {
     "name": "stdout",
     "output_type": "stream",
     "text": [
      "         Current function value: 0.248888\n",
      "         Iterations: 35\n",
      "         Function evaluations: 37\n",
      "         Gradient evaluations: 37\n"
     ]
    },
    {
     "name": "stderr",
     "output_type": "stream",
     "text": [
      "d:\\Projects\\PricingRecrutationProject\\FrequencyOfClaimsPrediction\\.venv\\Lib\\site-packages\\statsmodels\\base\\model.py:607: ConvergenceWarning: Maximum Likelihood optimization failed to converge. Check mle_retvals\n",
      "  warnings.warn(\"Maximum Likelihood optimization failed to \"\n",
      "d:\\Projects\\PricingRecrutationProject\\FrequencyOfClaimsPrediction\\.venv\\Lib\\site-packages\\scipy\\optimize\\_optimize.py:1313: OptimizeWarning: Maximum number of iterations has been exceeded.\n",
      "  res = _minimize_bfgs(f, x0, args, fprime, callback=callback, **opts)\n"
     ]
    },
    {
     "name": "stdout",
     "output_type": "stream",
     "text": [
      "         Current function value: 0.248891\n",
      "         Iterations: 35\n",
      "         Function evaluations: 37\n",
      "         Gradient evaluations: 37\n"
     ]
    },
    {
     "name": "stderr",
     "output_type": "stream",
     "text": [
      "d:\\Projects\\PricingRecrutationProject\\FrequencyOfClaimsPrediction\\.venv\\Lib\\site-packages\\statsmodels\\base\\model.py:607: ConvergenceWarning: Maximum Likelihood optimization failed to converge. Check mle_retvals\n",
      "  warnings.warn(\"Maximum Likelihood optimization failed to \"\n",
      "d:\\Projects\\PricingRecrutationProject\\FrequencyOfClaimsPrediction\\.venv\\Lib\\site-packages\\scipy\\optimize\\_optimize.py:1313: OptimizeWarning: Maximum number of iterations has been exceeded.\n",
      "  res = _minimize_bfgs(f, x0, args, fprime, callback=callback, **opts)\n"
     ]
    },
    {
     "name": "stdout",
     "output_type": "stream",
     "text": [
      "         Current function value: 0.248896\n",
      "         Iterations: 35\n",
      "         Function evaluations: 37\n",
      "         Gradient evaluations: 37\n"
     ]
    },
    {
     "name": "stderr",
     "output_type": "stream",
     "text": [
      "d:\\Projects\\PricingRecrutationProject\\FrequencyOfClaimsPrediction\\.venv\\Lib\\site-packages\\statsmodels\\base\\model.py:607: ConvergenceWarning: Maximum Likelihood optimization failed to converge. Check mle_retvals\n",
      "  warnings.warn(\"Maximum Likelihood optimization failed to \"\n",
      "d:\\Projects\\PricingRecrutationProject\\FrequencyOfClaimsPrediction\\.venv\\Lib\\site-packages\\scipy\\optimize\\_optimize.py:1313: OptimizeWarning: Maximum number of iterations has been exceeded.\n",
      "  res = _minimize_bfgs(f, x0, args, fprime, callback=callback, **opts)\n"
     ]
    },
    {
     "name": "stdout",
     "output_type": "stream",
     "text": [
      "         Current function value: 0.248898\n",
      "         Iterations: 35\n",
      "         Function evaluations: 37\n",
      "         Gradient evaluations: 37\n"
     ]
    },
    {
     "name": "stderr",
     "output_type": "stream",
     "text": [
      "d:\\Projects\\PricingRecrutationProject\\FrequencyOfClaimsPrediction\\.venv\\Lib\\site-packages\\statsmodels\\base\\model.py:607: ConvergenceWarning: Maximum Likelihood optimization failed to converge. Check mle_retvals\n",
      "  warnings.warn(\"Maximum Likelihood optimization failed to \"\n",
      "d:\\Projects\\PricingRecrutationProject\\FrequencyOfClaimsPrediction\\.venv\\Lib\\site-packages\\scipy\\optimize\\_optimize.py:1313: OptimizeWarning: Maximum number of iterations has been exceeded.\n",
      "  res = _minimize_bfgs(f, x0, args, fprime, callback=callback, **opts)\n"
     ]
    },
    {
     "name": "stdout",
     "output_type": "stream",
     "text": [
      "         Current function value: 0.248900\n",
      "         Iterations: 35\n",
      "         Function evaluations: 37\n",
      "         Gradient evaluations: 37\n"
     ]
    },
    {
     "name": "stderr",
     "output_type": "stream",
     "text": [
      "d:\\Projects\\PricingRecrutationProject\\FrequencyOfClaimsPrediction\\.venv\\Lib\\site-packages\\statsmodels\\base\\model.py:607: ConvergenceWarning: Maximum Likelihood optimization failed to converge. Check mle_retvals\n",
      "  warnings.warn(\"Maximum Likelihood optimization failed to \"\n",
      "d:\\Projects\\PricingRecrutationProject\\FrequencyOfClaimsPrediction\\.venv\\Lib\\site-packages\\scipy\\optimize\\_optimize.py:1313: OptimizeWarning: Maximum number of iterations has been exceeded.\n",
      "  res = _minimize_bfgs(f, x0, args, fprime, callback=callback, **opts)\n"
     ]
    },
    {
     "name": "stdout",
     "output_type": "stream",
     "text": [
      "         Current function value: 0.248903\n",
      "         Iterations: 35\n",
      "         Function evaluations: 37\n",
      "         Gradient evaluations: 37\n"
     ]
    },
    {
     "name": "stderr",
     "output_type": "stream",
     "text": [
      "d:\\Projects\\PricingRecrutationProject\\FrequencyOfClaimsPrediction\\.venv\\Lib\\site-packages\\statsmodels\\base\\model.py:607: ConvergenceWarning: Maximum Likelihood optimization failed to converge. Check mle_retvals\n",
      "  warnings.warn(\"Maximum Likelihood optimization failed to \"\n",
      "d:\\Projects\\PricingRecrutationProject\\FrequencyOfClaimsPrediction\\.venv\\Lib\\site-packages\\scipy\\optimize\\_optimize.py:1313: OptimizeWarning: Maximum number of iterations has been exceeded.\n",
      "  res = _minimize_bfgs(f, x0, args, fprime, callback=callback, **opts)\n"
     ]
    },
    {
     "name": "stdout",
     "output_type": "stream",
     "text": [
      "         Current function value: 0.248907\n",
      "         Iterations: 35\n",
      "         Function evaluations: 37\n",
      "         Gradient evaluations: 37\n"
     ]
    },
    {
     "name": "stderr",
     "output_type": "stream",
     "text": [
      "d:\\Projects\\PricingRecrutationProject\\FrequencyOfClaimsPrediction\\.venv\\Lib\\site-packages\\statsmodels\\base\\model.py:607: ConvergenceWarning: Maximum Likelihood optimization failed to converge. Check mle_retvals\n",
      "  warnings.warn(\"Maximum Likelihood optimization failed to \"\n",
      "d:\\Projects\\PricingRecrutationProject\\FrequencyOfClaimsPrediction\\.venv\\Lib\\site-packages\\scipy\\optimize\\_optimize.py:1313: OptimizeWarning: Maximum number of iterations has been exceeded.\n",
      "  res = _minimize_bfgs(f, x0, args, fprime, callback=callback, **opts)\n"
     ]
    },
    {
     "name": "stdout",
     "output_type": "stream",
     "text": [
      "         Current function value: 0.248918\n",
      "         Iterations: 35\n",
      "         Function evaluations: 37\n",
      "         Gradient evaluations: 37\n"
     ]
    },
    {
     "name": "stderr",
     "output_type": "stream",
     "text": [
      "d:\\Projects\\PricingRecrutationProject\\FrequencyOfClaimsPrediction\\.venv\\Lib\\site-packages\\statsmodels\\base\\model.py:607: ConvergenceWarning: Maximum Likelihood optimization failed to converge. Check mle_retvals\n",
      "  warnings.warn(\"Maximum Likelihood optimization failed to \"\n"
     ]
    },
    {
     "name": "stdout",
     "output_type": "stream",
     "text": [
      "                     ZeroInflatedPoisson Regression Results                    \n",
      "===============================================================================\n",
      "Dep. Variable:          ClaimFrequency   No. Observations:               542401\n",
      "Model:             ZeroInflatedPoisson   Df Residuals:                   542379\n",
      "Method:                            MLE   Df Model:                           21\n",
      "Date:                 Wed, 12 Mar 2025   Pseudo R-squ.:                0.004887\n",
      "Time:                         23:28:43   Log-Likelihood:            -1.3501e+05\n",
      "converged:                       False   LL-Null:                   -1.3568e+05\n",
      "Covariance Type:             nonrobust   LLR p-value:                6.100e-268\n",
      "============================================================================================\n",
      "                               coef    std err          z      P>|z|      [0.025      0.975]\n",
      "--------------------------------------------------------------------------------------------\n",
      "inflate_const                2.2782      0.006    353.733      0.000       2.266       2.291\n",
      "const                       -0.7184      0.023    -31.148      0.000      -0.764      -0.673\n",
      "num__VehPower                0.0134      0.006      2.152      0.031       0.001       0.026\n",
      "num__VehAge                 -0.0862      0.007    -11.847      0.000      -0.100      -0.072\n",
      "num__DrivAge                 0.0706      0.007     10.763      0.000       0.058       0.083\n",
      "num__TransformBonusMalus     0.1985      0.006     34.723      0.000       0.187       0.210\n",
      "cat__Area_B                  0.2110      0.025      8.369      0.000       0.162       0.260\n",
      "cat__Area_C                  0.2459      0.021     11.750      0.000       0.205       0.287\n",
      "cat__Area_D                  0.3277      0.022     15.122      0.000       0.285       0.370\n",
      "cat__Area_E                  0.3903      0.023     17.242      0.000       0.346       0.435\n",
      "cat__Area_F                  0.2578      0.040      6.383      0.000       0.179       0.337\n",
      "cat__VehBrand_B12            0.2888      0.019     15.098      0.000       0.251       0.326\n",
      "cat__VehBrand_B2             0.0575      0.017      3.442      0.001       0.025       0.090\n",
      "cat__VehBrand_B3             0.1322      0.024      5.525      0.000       0.085       0.179\n",
      "cat__VehBrand_B4             0.0809      0.033      2.441      0.015       0.016       0.146\n",
      "cat__VehBrand_B5             0.1679      0.027      6.132      0.000       0.114       0.222\n",
      "cat__VehBrand_B6             0.0878      0.032      2.775      0.006       0.026       0.150\n",
      "cat__Region_R24              0.2480      0.018     13.768      0.000       0.213       0.283\n",
      "cat__Region_R52              0.1392      0.028      4.987      0.000       0.084       0.194\n",
      "cat__Region_R53              0.2546      0.025     10.022      0.000       0.205       0.304\n",
      "cat__Region_R54              0.0897      0.039      2.320      0.020       0.014       0.165\n",
      "cat__Region_R82              0.2120      0.019     10.893      0.000       0.174       0.250\n",
      "cat__Region_R93              0.1445      0.021      6.838      0.000       0.103       0.186\n",
      "============================================================================================\n"
     ]
    }
   ],
   "source": [
    "with open('glm_model_all.pkl', 'rb') as f:\n",
    "    best_model = pickle.load(f)\n",
    "\n",
    "final_model, final_X_train = backward_stepwise_selection(best_model, X_train_transformed, y_train)\n",
    "print(final_model.summary())\n",
    "\n",
    "with open('glm_model.pkl','wb') as f:\n",
    "    pickle.dump(final_model,f)"
   ]
  },
  {
   "cell_type": "markdown",
   "metadata": {},
   "source": [
    "### Model evaluation"
   ]
  },
  {
   "cell_type": "code",
   "execution_count": 32,
   "metadata": {},
   "outputs": [
    {
     "data": {
      "image/png": "[encoded data removed]",
      "text/plain": [
       "<Figure size 800x600 with 1 Axes>"
      ]
     },
     "metadata": {},
     "output_type": "display_data"
    }
   ],
   "source": [
    "with open('glm_model.pkl', 'rb') as f:\n",
    "    final_model = pickle.load(f)\n",
    "\n",
    "final_X_test = X_test_transformed[final_X_train.columns]\n",
    "y_pred = final_model.predict(sm.add_constant(final_X_test))\n",
    "\n",
    "plt.figure(figsize=(8, 6))\n",
    "sns.histplot(y_pred, bins=50, kde=True, color='blue', label='Predicted')\n",
    "sns.histplot(y_test, bins=50, kde=True, color='red', label='Actual')\n",
    "plt.xlabel(\"Claim Frequency\")\n",
    "plt.ylabel(\"Count\")\n",
    "plt.legend()\n",
    "plt.title(\"Distribution of Actual vs Predicted Claim Frequency\")\n",
    "plt.show()"
   ]
  }
 ],
 "metadata": {
  "kernelspec": {
   "display_name": ".venv",
   "language": "python",
   "name": "python3"
  },
  "language_info": {
   "codemirror_mode": {
    "name": "ipython",
    "version": 3
   },
   "file_extension": ".py",
   "mimetype": "text/x-python",
   "name": "python",
   "nbconvert_exporter": "python",
   "pygments_lexer": "ipython3",
   "version": "3.11.2"
  }
 },
 "nbformat": 4,
 "nbformat_minor": 2
}
