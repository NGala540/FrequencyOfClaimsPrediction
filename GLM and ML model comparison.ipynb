{
 "cells": [
  {
   "cell_type": "markdown",
   "metadata": {},
   "source": [
    "### finding client segments with highest differencec in model predictions"
   ]
  },
  {
   "cell_type": "code",
   "execution_count": null,
   "metadata": {},
   "outputs": [],
   "source": [
    "# importing libraries\n",
    "import numpy as np\n",
    "import pandas as pd\n",
    "import pickle\n",
    "import statsmodels.api as sm\n",
    "from imblearn.over_sampling import SMOTE\n",
    "from imblearn.pipeline import Pipeline as ImbPipeline\n",
    "import xgboost as xg"
   ]
  },
  {
   "cell_type": "code",
   "execution_count": 16,
   "metadata": {},
   "outputs": [],
   "source": [
    "# Load dataset\n",
    "df = pd.read_csv(\"feature_selected_data.csv\")\n",
    "X = df.drop(columns=['ClaimFrequency', \"isClaim\"], axis=1)\n",
    "y = df['ClaimFrequency']"
   ]
  },
  {
   "cell_type": "code",
   "execution_count": 17,
   "metadata": {},
   "outputs": [],
   "source": [
    "# prepare GLM predictions\n",
    "with open(\"glm_model.pkl\", \"rb\") as f:\n",
    "    glm_model = pickle.load(f)\n",
    "\n",
    "with open(\"preprocessor_glm.pkl\", \"rb\") as f:\n",
    "    glm_preprocessor = pickle.load(f)\n",
    "\n",
    "X_transformed = pd.DataFrame(glm_preprocessor.transform(X).toarray(), columns=glm_preprocessor.get_feature_names_out()) \n",
    "\n",
    "glm_columns = glm_model.model.exog_names\n",
    "col_names_X = [x for x in glm_columns if not x.startswith(\"inflate_\") and x != 'const']\n",
    "col_names_X_infl = [x.replace(\"inflate_\", \"\") for x in glm_columns if x.startswith(\"inflate_\") and x != 'inflate_const']\n",
    "\n",
    "X_glm = X_transformed[col_names_X]\n",
    "X_glm_infl = X_transformed[col_names_X_infl]\n",
    "glm_preds = glm_model.predict(exog=sm.add_constant(X_glm), exog_infl = sm.add_constant(X_glm_infl)) "
   ]
  },
  {
   "cell_type": "code",
   "execution_count": 18,
   "metadata": {},
   "outputs": [],
   "source": [
    "# prepare ML predictions\n",
    "with open(\"best_classifier.pkl\", \"rb\") as f:\n",
    "    best_classifier = pickle.load(f)\n",
    "\n",
    "with open(\"best_regressor.pkl\", \"rb\") as f:\n",
    "    best_regressor = pickle.load(f)\n",
    "\n",
    "class_preds = best_classifier.predict(X)\n",
    "ml_preds = np.where(class_preds == 1, best_regressor.predict(X), 0)"
   ]
  },
  {
   "cell_type": "code",
   "execution_count": null,
   "metadata": {},
   "outputs": [
    {
     "name": "stdout",
     "output_type": "stream",
     "text": [
      "Area\n",
      "F    0.267930\n",
      "A    0.243156\n",
      "D    0.232958\n",
      "C    0.232858\n",
      "E    0.232439\n",
      "B    0.220872\n",
      "Name: Prediction_Diff, dtype: float64\n",
      "VehBrand\n",
      "B1     0.282405\n",
      "B2     0.273378\n",
      "B5     0.223480\n",
      "B3     0.211044\n",
      "B12    0.208371\n",
      "B4     0.166063\n",
      "B6     0.163998\n",
      "B11    0.147842\n",
      "B10    0.135946\n",
      "B13    0.134165\n",
      "Name: Prediction_Diff, dtype: float64\n",
      "VehGas\n",
      "Regular    0.243219\n",
      "Diesel     0.224337\n",
      "Name: Prediction_Diff, dtype: float64\n",
      "Region\n",
      "R24    0.384500\n",
      "R82    0.277802\n",
      "R53    0.266724\n",
      "R11    0.254541\n",
      "R42    0.202896\n",
      "R74    0.192122\n",
      "R94    0.176433\n",
      "R93    0.173473\n",
      "R52    0.161825\n",
      "R22    0.148004\n",
      "Name: Prediction_Diff, dtype: float64\n"
     ]
    }
   ],
   "source": [
    "# Compute absolute prediction differences\n",
    "df['Prediction_GLM'] = glm_preds\n",
    "df['Prediction_ML'] = ml_preds\n",
    "df['Prediction_Diff'] = np.abs(glm_preds - ml_preds)\n",
    "\n",
    "# Identify customer segments with largest differences\n",
    "categorical_features = X.select_dtypes(include=['object']).columns\n",
    "for i in categorical_features:\n",
    "    segment_differences = df.groupby([i])['Prediction_Diff'].mean().sort_values(ascending=False)\n",
    "    print(segment_differences.head(10))"
   ]
  },
  {
   "cell_type": "code",
   "execution_count": null,
   "metadata": {},
   "outputs": [
    {
     "name": "stdout",
     "output_type": "stream",
     "text": [
      "VehPower\n",
      "6.0     0.308808\n",
      "5.0     0.263459\n",
      "7.0     0.252936\n",
      "9.0     0.187441\n",
      "10.0    0.186393\n",
      "4.0     0.171652\n",
      "8.0     0.153575\n",
      "11.0    0.137231\n",
      "13.0    0.136328\n",
      "14.0    0.134456\n",
      "Name: Prediction_Diff, dtype: float64\n"
     ]
    }
   ],
   "source": [
    "# Checking vehical power\n",
    "segment_differences = df.groupby([\"VehPower\"])['Prediction_Diff'].mean().sort_values(ascending=False)\n",
    "print(segment_differences.head(10))"
   ]
  },
  {
   "cell_type": "code",
   "execution_count": null,
   "metadata": {},
   "outputs": [
    {
     "name": "stdout",
     "output_type": "stream",
     "text": [
      "   DrivAge DrivAge_cat  VehAge VehAge_cat\n",
      "0     55.0       48-57     0.0        0-4\n",
      "1     55.0       48-57     0.0        0-4\n",
      "2     52.0       48-57     2.0        0-4\n",
      "3     46.0       38-47     0.0        0-4\n",
      "4     38.0       38-47     2.0        0-4\n"
     ]
    }
   ],
   "source": [
    "# coding age features\n",
    "drivage_bins = list(range(18, 98, 10)) \n",
    "drivage_labels = [f\"{start}-{start+9}\" for start in drivage_bins[:-1]]\n",
    "\n",
    "vehage_bins = list(range(0, 30, 5)) \n",
    "vehage_labels = [f\"{start}-{start+4}\" for start in vehage_bins[:-1]]\n",
    "\n",
    "df[\"DrivAge_cat\"] = pd.cut(df[\"DrivAge\"], bins=drivage_bins, labels=drivage_labels, right=False)\n",
    "df[\"VehAge_cat\"] = pd.cut(df[\"VehAge\"], bins=vehage_bins, labels=vehage_labels, right=False)"
   ]
  },
  {
   "cell_type": "code",
   "execution_count": null,
   "metadata": {},
   "outputs": [
    {
     "name": "stdout",
     "output_type": "stream",
     "text": [
      "DrivAge_cat\n",
      "78-87    0.342025\n",
      "68-77    0.327372\n",
      "48-57    0.311176\n",
      "58-67    0.287178\n",
      "18-27    0.255935\n",
      "38-47    0.194373\n",
      "28-37    0.135145\n",
      "Name: Prediction_Diff, dtype: float64\n"
     ]
    },
    {
     "name": "stderr",
     "output_type": "stream",
     "text": [
      "C:\\Users\\galano1\\AppData\\Local\\Temp\\ipykernel_9440\\51781980.py:1: FutureWarning: The default of observed=False is deprecated and will be changed to True in a future version of pandas. Pass observed=False to retain current behavior or observed=True to adopt the future default and silence this warning.\n",
      "  segment_differences = df.groupby([\"DrivAge_cat\"])['Prediction_Diff'].mean().sort_values(ascending=False)\n"
     ]
    }
   ],
   "source": [
    "# Checking driver age\n",
    "segment_differences = df.groupby([\"DrivAge_cat\"])['Prediction_Diff'].mean().sort_values(ascending=False)\n",
    "print(segment_differences.head(10))"
   ]
  },
  {
   "cell_type": "code",
   "execution_count": null,
   "metadata": {},
   "outputs": [
    {
     "name": "stdout",
     "output_type": "stream",
     "text": [
      "VehAge_cat\n",
      "5-9      0.290755\n",
      "10-14    0.243019\n",
      "0-4      0.225890\n",
      "15-19    0.114538\n",
      "20-24    0.095566\n",
      "Name: Prediction_Diff, dtype: float64\n"
     ]
    },
    {
     "name": "stderr",
     "output_type": "stream",
     "text": [
      "C:\\Users\\galano1\\AppData\\Local\\Temp\\ipykernel_9440\\3411366152.py:1: FutureWarning: The default of observed=False is deprecated and will be changed to True in a future version of pandas. Pass observed=False to retain current behavior or observed=True to adopt the future default and silence this warning.\n",
      "  segment_differences = df.groupby([\"VehAge_cat\"])['Prediction_Diff'].mean().sort_values(ascending=False)\n"
     ]
    }
   ],
   "source": [
    "# Checking driver age\n",
    "segment_differences = df.groupby([\"VehAge_cat\"])['Prediction_Diff'].mean().sort_values(ascending=False)\n",
    "print(segment_differences.head(10))"
   ]
  }
 ],
 "metadata": {
  "kernelspec": {
   "display_name": ".venv",
   "language": "python",
   "name": "python3"
  },
  "language_info": {
   "codemirror_mode": {
    "name": "ipython",
    "version": 3
   },
   "file_extension": ".py",
   "mimetype": "text/x-python",
   "name": "python",
   "nbconvert_exporter": "python",
   "pygments_lexer": "ipython3",
   "version": "3.10.1"
  }
 },
 "nbformat": 4,
 "nbformat_minor": 2
}
